{
 "cells": [
  {
   "cell_type": "markdown",
   "metadata": {
    "deletable": true,
    "editable": true
   },
   "source": [
    "# Sragvi Tirumala\n",
    "## 2 May, 2018\n",
    "## Intro to Data Science\n",
    "## Rash Classification\n",
    "\n",
    "This code is intended to extract texture related features from skin rash images. These features will be fed into supervised classification frameworks such as a neural net and a binary tree/random forest. These methods will then be fed into an ensemble learning method with the results from these as well as a Convolutional Neural Net."
   ]
  },
  {
   "cell_type": "code",
   "execution_count": 24,
   "metadata": {
    "collapsed": false,
    "deletable": true,
    "editable": true
   },
   "outputs": [
    {
     "name": "stdout",
     "output_type": "stream",
     "text": [
      "255\n",
      "230\n"
     ]
    },
    {
     "name": "stderr",
     "output_type": "stream",
     "text": [
      "C:\\Users\\Asus\\AppData\\Local\\Enthought\\Canopy\\edm\\envs\\User\\lib\\site-packages\\skimage\\feature\\texture.py:109: FutureWarning: Conversion of the second argument of issubdtype from `float` to `np.floating` is deprecated. In future, it will be treated as `np.float64 == np.dtype(float).type`.\n",
      "  if np.issubdtype(image.dtype, np.float):\n"
     ]
    },
    {
     "data": {
      "text/plain": [
       "(256, 256, 2, 3)"
      ]
     },
     "execution_count": 24,
     "metadata": {},
     "output_type": "execute_result"
    }
   ],
   "source": [
    "import numpy as np\n",
    "import matplotlib.pyplot as plt\n",
    "import skimage\n",
    "from skimage.feature import greycomatrix, greycoprops\n",
    "from skimage.color import rgb2gray\n",
    "from scipy.misc import imread\n",
    "\n",
    "# open the correct image\n",
    "#import tkinter as tk\n",
    "#from tkinter import filedialog\n",
    "\n",
    "#root = tk.Tk()\n",
    "#root.withdraw()\n",
    "\n",
    "#file_path = filedialog.askopenfilename()\n",
    "img = imread('C:/Users/Asus/Documents/Grad School/Intro to Data Science/Project/Final_Images/Final_Images/Atopic Dermatitis/Filtered_ato1.jpg')\n",
    "\n",
    "print(np.amax(img))\n",
    "\n",
    "# compute some GLCM properties each patch\n",
    "contrast = []\n",
    "energy = []\n",
    "\n",
    "img2 = np.uint8(rgb2gray(img)*255)\n",
    "#img3 = img2[np.nonzero(img2)]\n",
    "\n",
    "print(np.amax(img2))\n",
    "#print(np.nonzero(img2))\n",
    "#print(img3)\n",
    "\n",
    "\n",
    "#compute gray-level co-occurrence matrix\n",
    "glcm = greycomatrix(img2, [1,5], [0,45,90], 256, symmetric=True)\n",
    "\n",
    "#ignore 0,0 adjacencies\n",
    "glcm[0,0,:,:] = 0\n",
    "\n",
    "#glcm = greycomatrix(img2, [1], [0], 256, symmetric=False)\n",
    "contrast.append(greycoprops(glcm, 'contrast')[0, 0])\n",
    "energy.append(greycoprops(glcm, 'energy')[0, 0])\n",
    "\n",
    "np.shape(glcm)"
   ]
  },
  {
   "cell_type": "code",
   "execution_count": 9,
   "metadata": {
    "collapsed": false,
    "deletable": true,
    "editable": true
   },
   "outputs": [],
   "source": [
    "import tkinter as tk\n",
    "from tkinter import filedialog\n",
    "\n",
    "root = tk.Tk()\n",
    "root.withdraw()\n",
    "\n",
    "file_path = filedialog.askopenfilename()"
   ]
  },
  {
   "cell_type": "code",
   "execution_count": 10,
   "metadata": {
    "collapsed": false,
    "deletable": true,
    "editable": true
   },
   "outputs": [
    {
     "data": {
      "text/plain": [
       "'C:/Users/Asus/Documents/Grad School/Intro to Data Science/Project/Project Data/Compiled Data/atopic dermatitis/ato_1.jpg'"
      ]
     },
     "execution_count": 10,
     "metadata": {},
     "output_type": "execute_result"
    }
   ],
   "source": [
    "file_path"
   ]
  },
  {
   "cell_type": "code",
   "execution_count": 1,
   "metadata": {
    "collapsed": false,
    "deletable": true,
    "editable": true
   },
   "outputs": [
    {
     "ename": "SyntaxError",
     "evalue": "invalid syntax (<ipython-input-1-0e0646a2a05a>, line 38)",
     "output_type": "error",
     "traceback": [
      "\u001b[1;36m  File \u001b[1;32m\"<ipython-input-1-0e0646a2a05a>\"\u001b[1;36m, line \u001b[1;32m38\u001b[0m\n\u001b[1;33m    diseasestats(i)        stats\u001b[0m\n\u001b[1;37m                               ^\u001b[0m\n\u001b[1;31mSyntaxError\u001b[0m\u001b[1;31m:\u001b[0m invalid syntax\n"
     ]
    }
   ],
   "source": []
  },
  {
   "cell_type": "markdown",
   "metadata": {
    "deletable": true,
    "editable": true
   },
   "source": [
    "# FEATURE EXTRACTION FRAMEWORK"
   ]
  },
  {
   "cell_type": "code",
   "execution_count": 12,
   "metadata": {
    "collapsed": false,
    "deletable": true,
    "editable": true
   },
   "outputs": [
    {
     "name": "stdout",
     "output_type": "stream",
     "text": [
      "86\n"
     ]
    }
   ],
   "source": [
    "# FIRST, WE PLACE ALL OF OUR IMAGES OF A GIVEN DISEASE INTO AN IMAGE LIST\n",
    "%matplotlib inline\n",
    "import numpy as np\n",
    "import glob\n",
    "import matplotlib.image as mpimg\n",
    "import matplotlib.pyplot as plt\n",
    "import skimage\n",
    "from skimage import color\n",
    "\n",
    "from skimage.feature import greycomatrix, greycoprops\n",
    "from skimage.color import rgb2gray\n",
    "from scipy.misc import imread\n",
    "import pandas as pd\n",
    "\n",
    "#Image matrices for each disease\n",
    "AtoList=[]; PitList=[]; ConList=[]; MelList=[]; MimList = []; PsoList=[]; RinList=[];\n",
    "\n",
    "for filename in glob.glob('C:/Users/Asus/Documents/Grad School/Intro to Data Science/Project/Final_Images/Final_Images/AtopicDermatitis/*.jpg'):\n",
    "    im = mpimg.imread(filename)\n",
    "    AtoList.append(im)\n",
    "    \n",
    "for filename in glob.glob('C:/Users/Asus/Documents/Grad School/Intro to Data Science/Project/Final_Images/Final_Images/ChristmasRash/*.jpg'):\n",
    "    im = mpimg.imread(filename)\n",
    "    PitList.append(im)\n",
    "    \n",
    "for filename in glob.glob('C:/Users/Asus/Documents/Grad School/Intro to Data Science/Project/Final_Images/Final_Images/ContactDermatitis/*.jpg'):\n",
    "    im = mpimg.imread(filename)\n",
    "    ConList.append(im)\n",
    "    \n",
    "for filename in glob.glob('C:/Users/Asus/Documents/Grad School/Intro to Data Science/Project/Final_Images/Final_Images/MalignantMelanoma/*.jpg'):\n",
    "    im = mpimg.imread(filename)\n",
    "    MelList.append(im)    \n",
    "    \n",
    "for filename in glob.glob('C:/Users/Asus/Documents/Grad School/Intro to Data Science/Project/Final_Images/Final_Images/melanomamimic/*.jpg'):\n",
    "    im = mpimg.imread(filename)\n",
    "    MimList.append(im)  \n",
    "\n",
    "for filename in glob.glob('C:/Users/Asus/Documents/Grad School/Intro to Data Science/Project/Final_Images/Final_Images/Psoriasis/*.jpg'):\n",
    "    im = mpimg.imread(filename)\n",
    "    PsoList.append(im)\n",
    "    \n",
    "for filename in glob.glob('C:/Users/Asus/Documents/Grad School/Intro to Data Science/Project/Final_Images/Final_Images/Ringworm/*.jpg'):\n",
    "    im = mpimg.imread(filename)\n",
    "    RinList.append(im)    \n",
    "\n",
    "DisImList = [AtoList, PitList, ConList, MelList, MimList, PsoList, RinList]\n",
    "    \n",
    "nfiles = len(RinList)\n",
    "print(nfiles)"
   ]
  },
  {
   "cell_type": "code",
   "execution_count": 14,
   "metadata": {
    "collapsed": false,
    "deletable": true,
    "editable": true
   },
   "outputs": [],
   "source": [
    "#Store Gray-level co-occurrence matrix stats in df\n",
    "TexStats = pd.DataFrame([[],[]],columns = ('contrast','energy') )\n",
    "\n",
    "\n",
    "#iterate across all diseases\n",
    "for dis in DisImList:\n",
    "    #iterate across all images \n",
    "    for im in dis:\n",
    "        #file_path = filedialog.askopenfilename()\n",
    "        img = imread('C:/Users/Asus/Documents/Grad School/Intro to Data Science/Project/Final_Images/Final_Images/Atopic Dermatitis/Filtered_ato1.jpg')\n",
    "\n",
    "        print(np.amax(img))\n",
    "\n",
    "        img2 = np.uint8(rgb2gray(img)*255)\n",
    "        #img3 = img2[np.nonzero(img2)]\n",
    "\n",
    "        print(np.amax(img2))\n",
    "        #print(np.nonzero(img2))\n",
    "        #print(img3)\n",
    "\n",
    "        #compute gray-level co-occurrence matrix\n",
    "        glcm = greycomatrix(img2, [1,5], [0,45,90], 256, symmetric=True)\n",
    "\n",
    "        #ignore 0,0 adjacencies\n",
    "        glcm[0,0,:,:] = 0\n",
    "\n",
    "        contrast = greycoprops(glcm, 'contrast')[0, 0]\n",
    "        energy = greycoprops(glcm, 'energy')[0, 0]\n",
    "        \n",
    "        TexStats.loc[TextStats.shape[0]] = [contrast,energy]\n",
    "\n",
    "    "
   ]
  },
  {
   "cell_type": "code",
   "execution_count": null,
   "metadata": {
    "collapsed": true,
    "deletable": true,
    "editable": true
   },
   "outputs": [],
   "source": []
  }
 ],
 "metadata": {
  "kernelspec": {
   "display_name": "Python 3",
   "language": "python",
   "name": "python3"
  },
  "language_info": {
   "codemirror_mode": {
    "name": "ipython",
    "version": 3
   },
   "file_extension": ".py",
   "mimetype": "text/x-python",
   "name": "python",
   "nbconvert_exporter": "python",
   "pygments_lexer": "ipython3",
   "version": "3.5.2"
  }
 },
 "nbformat": 4,
 "nbformat_minor": 2
}
