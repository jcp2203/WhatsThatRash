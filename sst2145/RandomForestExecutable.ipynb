{
 "cells": [
  {
   "cell_type": "markdown",
   "metadata": {
    "deletable": true,
    "editable": true
   },
   "source": [
    "# Sragvi Tirumala\n",
    "## 2 May, 2018\n",
    "## Intro to Data Science\n",
    "## Rash Classification\n",
    "\n",
    "This code is intended to extract texture related features from skin rash images. These features will be fed into a supervised classification binary tree/random forest framework. This method will then be fed into an ensemble learning method with the results from color classifiers as well as a Convolutional Neural Net."
   ]
  },
  {
   "cell_type": "code",
   "execution_count": 323,
   "metadata": {
    "collapsed": true,
    "deletable": true,
    "editable": true
   },
   "outputs": [],
   "source": [
    "%matplotlib inline\n",
    "import numpy as np\n",
    "import glob\n",
    "import matplotlib.image as mpimg\n",
    "import matplotlib.pyplot as plt\n",
    "import skimage\n",
    "from skimage import color\n",
    "\n",
    "from skimage.feature import greycomatrix, greycoprops\n",
    "from skimage.color import rgb2gray\n",
    "from scipy.misc import imread\n",
    "import pandas as pd\n",
    "\n",
    "import os, glob\n",
    "from skimage.filters import threshold_mean\n",
    "import pickle\n",
    "\n",
    "\n",
    "# Store Gray-level co-occurrence matrix stats\n",
    "# Find the threshold value and mean value of the red parts of the image, we assume some diseases are more red than others\n",
    "\n",
    "img2 = np.uint8(rgb2gray(img)*255)\n",
    "\n",
    "#compute gray-level co-occurrence matrix\n",
    "glcm = greycomatrix(img2, [1,5,10], [0,45,90], 256, symmetric=True)\n",
    "\n",
    "#ignore 0,0 adjacencies\n",
    "glcm[0,0,:,:] = 0\n",
    "    \n",
    "contrast = (greycoprops(glcm, 'contrast')[0, 0])\n",
    "energy = (greycoprops(glcm, 'energy')[0, 0])\n",
    "    \n",
    "\n",
    "rimg = img[:,:,0]\n",
    "rnz = rimg[np.nonzero(rimg)]\n",
    "if (rnz.any()):\n",
    "    rm = np.mean(rnz)\n",
    "    rt = threshold_mean(rnz)\n",
    "        \n",
    "else:\n",
    "    rm = 0\n",
    "    rt = 0\n",
    "\n",
    "imstats = [contrast,energy,rm,rt]\n",
    "\n",
    "decision_tree_pkl_filename = 'decision_tree_classifier.pkl'\n",
    "\n",
    "# Loading the saved decision tree model pickle\n",
    "decision_tree_model_pkl = open(decision_tree_pkl_filename, 'rb')\n",
    "decision_tree_model = pickle.load(decision_tree_model_pkl)\n",
    "print (\"Loaded Decision tree model :: \", decision_tree_model)\n",
    "decision_tree_model_pkl.close()\n",
    "\n",
    "blahblah = decision_tree_model.predict(imstats)\n"
   ]
  }
 ],
 "metadata": {
  "kernelspec": {
   "display_name": "Python 3",
   "language": "python",
   "name": "python3"
  },
  "language_info": {
   "codemirror_mode": {
    "name": "ipython",
    "version": 3
   },
   "file_extension": ".py",
   "mimetype": "text/x-python",
   "name": "python",
   "nbconvert_exporter": "python",
   "pygments_lexer": "ipython3",
   "version": "3.5.2"
  }
 },
 "nbformat": 4,
 "nbformat_minor": 2
}
