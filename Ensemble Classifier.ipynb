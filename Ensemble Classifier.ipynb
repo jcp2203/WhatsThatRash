{
 "cells": [
  {
   "cell_type": "markdown",
   "metadata": {},
   "source": [
    "# Ensemble Clasifier"
   ]
  },
  {
   "cell_type": "code",
   "execution_count": 129,
   "metadata": {},
   "outputs": [],
   "source": [
    "import numpy as np\n",
    "import pandas as pd\n",
    "\n",
    "from sklearn import linear_model\n",
    "from sklearn import metrics\n",
    "from sklearn.metrics import confusion_matrix\n",
    "from sklearn.metrics import roc_curve, roc_auc_score, auc\n",
    "from sklearn.preprocessing import LabelEncoder\n",
    "from sklearn import svm\n",
    "from sklearn.preprocessing import LabelEncoder\n",
    "from sklearn.model_selection import train_test_split\n",
    "\n",
    "from keras.models import Sequential\n",
    "from keras.layers import Dense,Conv2D,Dropout\n",
    "from keras.layers import MaxPooling2D,Flatten\n",
    "from keras.callbacks import ModelCheckpoint,TensorBoard\n",
    "from keras.optimizers import SGD\n",
    "from keras.optimizers import Adam\n",
    "from keras.utils import np_utils\n",
    "\n",
    "import itertools\n",
    "import os\n",
    "import matplotlib.pyplot as plt\n"
   ]
  },
  {
   "cell_type": "code",
   "execution_count": 130,
   "metadata": {},
   "outputs": [
    {
     "data": {
      "text/plain": [
       "'C:\\\\Users\\\\Valentin\\\\Documents\\\\Columbia University\\\\Courses\\\\Data Science for Industry\\\\Final project'"
      ]
     },
     "execution_count": 130,
     "metadata": {},
     "output_type": "execute_result"
    }
   ],
   "source": [
    "os.getcwd()"
   ]
  },
  {
   "cell_type": "markdown",
   "metadata": {},
   "source": [
    "## Import data"
   ]
  },
  {
   "cell_type": "code",
   "execution_count": 131,
   "metadata": {},
   "outputs": [],
   "source": [
    "ytrain = pd.read_csv('C:\\\\Users\\\\Valentin\\\\Documents\\\\Columbia University\\\\Courses\\\\Data Science for Industry\\\\Final project\\\\Color quant\\\\ytrain.csv')\n",
    "ytest = pd.read_csv('C:\\\\Users\\\\Valentin\\\\Documents\\\\Columbia University\\\\Courses\\\\Data Science for Industry\\\\Final project\\\\Color quant\\\\ytest.csv')\n",
    "\n",
    "# CNN\n",
    "CNNtrain = np.load('C:\\\\Users\\\\Valentin\\\\Documents\\\\Columbia University\\\\Courses\\\\Data Science for Industry\\\\Final project\\\\Final results\\\\CNNTrainScores.npy')\n",
    "CNNtest = np.load('C:\\\\Users\\\\Valentin\\\\Documents\\\\Columbia University\\\\Courses\\\\Data Science for Industry\\\\Final project\\\\Final results\\\\CNNTestScores.npy')\n",
    "\n",
    "# Random Forest\n",
    "RFtrain = np.load('C:\\\\Users\\\\Valentin\\\\Documents\\\\Columbia University\\\\Courses\\\\Data Science for Industry\\\\Final project\\\\Final results\\\\RandomForestScores.npy')\n",
    "RFtest = np.load('C:\\\\Users\\\\Valentin\\\\Documents\\\\Columbia University\\\\Courses\\\\Data Science for Industry\\\\Final project\\\\Final results\\\\RandomForestTestScores.npy')\n",
    "\n",
    "AllTrain = np.concatenate((CNNtrain[0:900] , RFtrain),axis=1)\n",
    "ytrain = np.array(ytrain)[:,1].astype(int)\n",
    "\n",
    "AllTest = np.concatenate((CNNtest , RFtest),axis=1)\n",
    "ytest = np.array(ytest)[:,1].astype(int)"
   ]
  },
  {
   "cell_type": "markdown",
   "metadata": {},
   "source": [
    "## Dividing Training Data in Training and Cross-Validation"
   ]
  },
  {
   "cell_type": "code",
   "execution_count": 132,
   "metadata": {},
   "outputs": [],
   "source": [
    "X_train, X_val, y_train, y_val = train_test_split(\n",
    "    AllTrain, ytrain, test_size=0.2, random_state=7)"
   ]
  },
  {
   "cell_type": "markdown",
   "metadata": {},
   "source": [
    "## Multinomial Logistic Regression"
   ]
  },
  {
   "cell_type": "code",
   "execution_count": 133,
   "metadata": {},
   "outputs": [
    {
     "name": "stdout",
     "output_type": "stream",
     "text": [
      "Multinomial Logistic regression Train Accuracy ::  0.9958333333333333\n",
      "Multinomial Logistic regression Val Accuracy ::  1.0\n"
     ]
    }
   ],
   "source": [
    "# Train multinomial logistic regression model\n",
    "mul_lr = linear_model.LogisticRegression(multi_class='multinomial', solver='newton-cg')\n",
    "mul_lr.fit(X_train, y_train)\n",
    "    \n",
    "print (\"Multinomial Logistic regression Train Accuracy :: \", metrics.accuracy_score(y_train, mul_lr.predict(X_train)))\n",
    "print (\"Multinomial Logistic regression Val Accuracy :: \", metrics.accuracy_score(y_val, mul_lr.predict(X_val)))"
   ]
  },
  {
   "cell_type": "markdown",
   "metadata": {},
   "source": [
    "## SVM"
   ]
  },
  {
   "cell_type": "code",
   "execution_count": 134,
   "metadata": {
    "scrolled": false
   },
   "outputs": [
    {
     "name": "stdout",
     "output_type": "stream",
     "text": [
      "SVM Train Accuracy ::  0.9958333333333333\n",
      "SVM Val Accuracy ::  1.0\n"
     ]
    }
   ],
   "source": [
    "clf = svm.SVC(probability=True)\n",
    "clf.fit(X_train, y_train)  \n",
    "\n",
    "print (\"SVM Train Accuracy :: \", metrics.accuracy_score(y_train, clf.predict(X_train)))\n",
    "print (\"SVM Val Accuracy :: \", metrics.accuracy_score(y_val, clf.predict(X_val)))"
   ]
  },
  {
   "cell_type": "markdown",
   "metadata": {},
   "source": [
    "## Neural Network"
   ]
  },
  {
   "cell_type": "code",
   "execution_count": 135,
   "metadata": {},
   "outputs": [
    {
     "name": "stdout",
     "output_type": "stream",
     "text": [
      "_________________________________________________________________\n",
      "Layer (type)                 Output Shape              Param #   \n",
      "=================================================================\n",
      "dense_11 (Dense)             (None, 10)                150       \n",
      "_________________________________________________________________\n",
      "dense_12 (Dense)             (None, 7)                 77        \n",
      "=================================================================\n",
      "Total params: 227\n",
      "Trainable params: 227\n",
      "Non-trainable params: 0\n",
      "_________________________________________________________________\n",
      "None\n"
     ]
    }
   ],
   "source": [
    "#Number of classes \n",
    "n = 7\n",
    "\n",
    "#One hot label encoder\n",
    "enc = LabelEncoder()\n",
    "enc.fit(np.arange(1,n+1))\n",
    "enc.transform(np.arange(1,n+1))\n",
    "train_labels = enc.transform(y_train)\n",
    "train_labels = np_utils.to_categorical(train_labels)\n",
    "\n",
    "\n",
    "model = Sequential()\n",
    "\n",
    "model.add(Dense(10, activation='relu', input_dim=14))\n",
    "model.add(Dense(7, activation='softmax'))\n",
    "\n",
    "model.compile(loss='categorical_crossentropy',\n",
    "              optimizer=Adam(lr=1e-3),\n",
    "              metrics=['accuracy'])\n",
    "\n",
    "batch_size = 132\n",
    "epoch = 50\n",
    "\n",
    "filepath = \"weights.hdf5\"\n",
    "checkpoint = ModelCheckpoint(filepath,monitor='val_acc',mode='max',\n",
    "                            save_best_only=True,verbose=1)\n",
    "\n",
    "callback_list = [checkpoint]\n",
    "\n",
    "print(model.summary())"
   ]
  },
  {
   "cell_type": "code",
   "execution_count": 136,
   "metadata": {},
   "outputs": [
    {
     "name": "stdout",
     "output_type": "stream",
     "text": [
      "Train on 576 samples, validate on 144 samples\n",
      "Epoch 1/50\n",
      "576/576 [==============================] - 0s 474us/step - loss: 1.9486 - acc: 0.0781 - val_loss: 1.9298 - val_acc: 0.0625\n",
      "\n",
      "Epoch 00001: val_acc improved from -inf to 0.06250, saving model to weights.hdf5\n",
      "Epoch 2/50\n",
      "576/576 [==============================] - 0s 22us/step - loss: 1.9302 - acc: 0.0816 - val_loss: 1.9112 - val_acc: 0.0625\n",
      "\n",
      "Epoch 00002: val_acc did not improve from 0.06250\n",
      "Epoch 3/50\n",
      "576/576 [==============================] - 0s 23us/step - loss: 1.9125 - acc: 0.0938 - val_loss: 1.8928 - val_acc: 0.0764\n",
      "\n",
      "Epoch 00003: val_acc improved from 0.06250 to 0.07639, saving model to weights.hdf5\n",
      "Epoch 4/50\n",
      "576/576 [==============================] - 0s 21us/step - loss: 1.8951 - acc: 0.1146 - val_loss: 1.8746 - val_acc: 0.1667\n",
      "\n",
      "Epoch 00004: val_acc improved from 0.07639 to 0.16667, saving model to weights.hdf5\n",
      "Epoch 5/50\n",
      "576/576 [==============================] - 0s 24us/step - loss: 1.8777 - acc: 0.1476 - val_loss: 1.8562 - val_acc: 0.1806\n",
      "\n",
      "Epoch 00005: val_acc improved from 0.16667 to 0.18056, saving model to weights.hdf5\n",
      "Epoch 6/50\n",
      "576/576 [==============================] - 0s 23us/step - loss: 1.8604 - acc: 0.1875 - val_loss: 1.8375 - val_acc: 0.2500\n",
      "\n",
      "Epoch 00006: val_acc improved from 0.18056 to 0.25000, saving model to weights.hdf5\n",
      "Epoch 7/50\n",
      "576/576 [==============================] - 0s 21us/step - loss: 1.8428 - acc: 0.2187 - val_loss: 1.8189 - val_acc: 0.2847\n",
      "\n",
      "Epoch 00007: val_acc improved from 0.25000 to 0.28472, saving model to weights.hdf5\n",
      "Epoch 8/50\n",
      "576/576 [==============================] - 0s 23us/step - loss: 1.8253 - acc: 0.2431 - val_loss: 1.8001 - val_acc: 0.3056\n",
      "\n",
      "Epoch 00008: val_acc improved from 0.28472 to 0.30556, saving model to weights.hdf5\n",
      "Epoch 9/50\n",
      "576/576 [==============================] - 0s 23us/step - loss: 1.8077 - acc: 0.2674 - val_loss: 1.7809 - val_acc: 0.3264\n",
      "\n",
      "Epoch 00009: val_acc improved from 0.30556 to 0.32639, saving model to weights.hdf5\n",
      "Epoch 10/50\n",
      "576/576 [==============================] - 0s 19us/step - loss: 1.7900 - acc: 0.2847 - val_loss: 1.7615 - val_acc: 0.3403\n",
      "\n",
      "Epoch 00010: val_acc improved from 0.32639 to 0.34028, saving model to weights.hdf5\n",
      "Epoch 11/50\n",
      "576/576 [==============================] - 0s 21us/step - loss: 1.7720 - acc: 0.2951 - val_loss: 1.7419 - val_acc: 0.3403\n",
      "\n",
      "Epoch 00011: val_acc did not improve from 0.34028\n",
      "Epoch 12/50\n",
      "576/576 [==============================] - 0s 24us/step - loss: 1.7539 - acc: 0.3108 - val_loss: 1.7217 - val_acc: 0.3472\n",
      "\n",
      "Epoch 00012: val_acc improved from 0.34028 to 0.34722, saving model to weights.hdf5\n",
      "Epoch 13/50\n",
      "576/576 [==============================] - 0s 24us/step - loss: 1.7350 - acc: 0.3212 - val_loss: 1.7011 - val_acc: 0.3472\n",
      "\n",
      "Epoch 00013: val_acc did not improve from 0.34722\n",
      "Epoch 14/50\n",
      "576/576 [==============================] - 0s 23us/step - loss: 1.7154 - acc: 0.3351 - val_loss: 1.6794 - val_acc: 0.3611\n",
      "\n",
      "Epoch 00014: val_acc improved from 0.34722 to 0.36111, saving model to weights.hdf5\n",
      "Epoch 15/50\n",
      "576/576 [==============================] - 0s 21us/step - loss: 1.6951 - acc: 0.3576 - val_loss: 1.6568 - val_acc: 0.3889\n",
      "\n",
      "Epoch 00015: val_acc improved from 0.36111 to 0.38889, saving model to weights.hdf5\n",
      "Epoch 16/50\n",
      "576/576 [==============================] - 0s 21us/step - loss: 1.6741 - acc: 0.3958 - val_loss: 1.6335 - val_acc: 0.4375\n",
      "\n",
      "Epoch 00016: val_acc improved from 0.38889 to 0.43750, saving model to weights.hdf5\n",
      "Epoch 17/50\n",
      "576/576 [==============================] - 0s 21us/step - loss: 1.6523 - acc: 0.4306 - val_loss: 1.6095 - val_acc: 0.4931\n",
      "\n",
      "Epoch 00017: val_acc improved from 0.43750 to 0.49306, saving model to weights.hdf5\n",
      "Epoch 18/50\n",
      "576/576 [==============================] - 0s 23us/step - loss: 1.6296 - acc: 0.4792 - val_loss: 1.5848 - val_acc: 0.5625\n",
      "\n",
      "Epoch 00018: val_acc improved from 0.49306 to 0.56250, saving model to weights.hdf5\n",
      "Epoch 19/50\n",
      "576/576 [==============================] - 0s 23us/step - loss: 1.6063 - acc: 0.5625 - val_loss: 1.5592 - val_acc: 0.6319\n",
      "\n",
      "Epoch 00019: val_acc improved from 0.56250 to 0.63194, saving model to weights.hdf5\n",
      "Epoch 20/50\n",
      "576/576 [==============================] - 0s 19us/step - loss: 1.5829 - acc: 0.6302 - val_loss: 1.5336 - val_acc: 0.6736\n",
      "\n",
      "Epoch 00020: val_acc improved from 0.63194 to 0.67361, saving model to weights.hdf5\n",
      "Epoch 21/50\n",
      "576/576 [==============================] - 0s 24us/step - loss: 1.5587 - acc: 0.6597 - val_loss: 1.5079 - val_acc: 0.6875\n",
      "\n",
      "Epoch 00021: val_acc improved from 0.67361 to 0.68750, saving model to weights.hdf5\n",
      "Epoch 22/50\n",
      "576/576 [==============================] - 0s 23us/step - loss: 1.5348 - acc: 0.6806 - val_loss: 1.4816 - val_acc: 0.7014\n",
      "\n",
      "Epoch 00022: val_acc improved from 0.68750 to 0.70139, saving model to weights.hdf5\n",
      "Epoch 23/50\n",
      "576/576 [==============================] - 0s 23us/step - loss: 1.5102 - acc: 0.6858 - val_loss: 1.4555 - val_acc: 0.7014\n",
      "\n",
      "Epoch 00023: val_acc did not improve from 0.70139\n",
      "Epoch 24/50\n",
      "576/576 [==============================] - 0s 19us/step - loss: 1.4858 - acc: 0.6927 - val_loss: 1.4293 - val_acc: 0.7014\n",
      "\n",
      "Epoch 00024: val_acc did not improve from 0.70139\n",
      "Epoch 25/50\n",
      "576/576 [==============================] - 0s 23us/step - loss: 1.4611 - acc: 0.6944 - val_loss: 1.4033 - val_acc: 0.7083\n",
      "\n",
      "Epoch 00025: val_acc improved from 0.70139 to 0.70833, saving model to weights.hdf5\n",
      "Epoch 26/50\n",
      "576/576 [==============================] - 0s 21us/step - loss: 1.4364 - acc: 0.6979 - val_loss: 1.3772 - val_acc: 0.7083\n",
      "\n",
      "Epoch 00026: val_acc did not improve from 0.70833\n",
      "Epoch 27/50\n",
      "576/576 [==============================] - 0s 23us/step - loss: 1.4117 - acc: 0.7031 - val_loss: 1.3513 - val_acc: 0.7083\n",
      "\n",
      "Epoch 00027: val_acc did not improve from 0.70833\n",
      "Epoch 28/50\n",
      "576/576 [==============================] - 0s 23us/step - loss: 1.3868 - acc: 0.7031 - val_loss: 1.3253 - val_acc: 0.7083\n",
      "\n",
      "Epoch 00028: val_acc did not improve from 0.70833\n",
      "Epoch 29/50\n",
      "576/576 [==============================] - 0s 19us/step - loss: 1.3622 - acc: 0.7031 - val_loss: 1.2994 - val_acc: 0.7083\n",
      "\n",
      "Epoch 00029: val_acc did not improve from 0.70833\n",
      "Epoch 30/50\n",
      "576/576 [==============================] - 0s 23us/step - loss: 1.3377 - acc: 0.7049 - val_loss: 1.2736 - val_acc: 0.7083\n",
      "\n",
      "Epoch 00030: val_acc did not improve from 0.70833\n",
      "Epoch 31/50\n",
      "576/576 [==============================] - 0s 19us/step - loss: 1.3132 - acc: 0.7066 - val_loss: 1.2480 - val_acc: 0.7153\n",
      "\n",
      "Epoch 00031: val_acc improved from 0.70833 to 0.71528, saving model to weights.hdf5\n",
      "Epoch 32/50\n",
      "576/576 [==============================] - 0s 21us/step - loss: 1.2892 - acc: 0.7101 - val_loss: 1.2225 - val_acc: 0.7292\n",
      "\n",
      "Epoch 00032: val_acc improved from 0.71528 to 0.72917, saving model to weights.hdf5\n",
      "Epoch 33/50\n",
      "576/576 [==============================] - 0s 26us/step - loss: 1.2648 - acc: 0.7118 - val_loss: 1.1977 - val_acc: 0.7292\n",
      "\n",
      "Epoch 00033: val_acc did not improve from 0.72917\n",
      "Epoch 34/50\n",
      "576/576 [==============================] - 0s 23us/step - loss: 1.2412 - acc: 0.7153 - val_loss: 1.1731 - val_acc: 0.7431\n",
      "\n",
      "Epoch 00034: val_acc improved from 0.72917 to 0.74306, saving model to weights.hdf5\n",
      "Epoch 35/50\n",
      "576/576 [==============================] - 0s 23us/step - loss: 1.2175 - acc: 0.7170 - val_loss: 1.1488 - val_acc: 0.7431\n",
      "\n",
      "Epoch 00035: val_acc did not improve from 0.74306\n",
      "Epoch 36/50\n",
      "576/576 [==============================] - 0s 21us/step - loss: 1.1942 - acc: 0.7205 - val_loss: 1.1247 - val_acc: 0.7431\n",
      "\n",
      "Epoch 00036: val_acc did not improve from 0.74306\n",
      "Epoch 37/50\n",
      "576/576 [==============================] - 0s 17us/step - loss: 1.1711 - acc: 0.7187 - val_loss: 1.1006 - val_acc: 0.7431\n",
      "\n",
      "Epoch 00037: val_acc did not improve from 0.74306\n",
      "Epoch 38/50\n",
      "576/576 [==============================] - 0s 23us/step - loss: 1.1483 - acc: 0.7240 - val_loss: 1.0769 - val_acc: 0.7639\n",
      "\n",
      "Epoch 00038: val_acc improved from 0.74306 to 0.76389, saving model to weights.hdf5\n",
      "Epoch 39/50\n",
      "576/576 [==============================] - 0s 23us/step - loss: 1.1255 - acc: 0.7274 - val_loss: 1.0535 - val_acc: 0.7708\n",
      "\n",
      "Epoch 00039: val_acc improved from 0.76389 to 0.77083, saving model to weights.hdf5\n",
      "Epoch 40/50\n",
      "576/576 [==============================] - 0s 19us/step - loss: 1.1032 - acc: 0.7326 - val_loss: 1.0306 - val_acc: 0.7708\n"
     ]
    },
    {
     "name": "stdout",
     "output_type": "stream",
     "text": [
      "\n",
      "Epoch 00040: val_acc did not improve from 0.77083\n",
      "Epoch 41/50\n",
      "576/576 [==============================] - 0s 21us/step - loss: 1.0810 - acc: 0.7361 - val_loss: 1.0083 - val_acc: 0.7778\n",
      "\n",
      "Epoch 00041: val_acc improved from 0.77083 to 0.77778, saving model to weights.hdf5\n",
      "Epoch 42/50\n",
      "576/576 [==============================] - 0s 23us/step - loss: 1.0594 - acc: 0.7517 - val_loss: 0.9862 - val_acc: 0.7847\n",
      "\n",
      "Epoch 00042: val_acc improved from 0.77778 to 0.78472, saving model to weights.hdf5\n",
      "Epoch 43/50\n",
      "576/576 [==============================] - 0s 24us/step - loss: 1.0379 - acc: 0.7674 - val_loss: 0.9648 - val_acc: 0.7986\n",
      "\n",
      "Epoch 00043: val_acc improved from 0.78472 to 0.79861, saving model to weights.hdf5\n",
      "Epoch 44/50\n",
      "576/576 [==============================] - 0s 21us/step - loss: 1.0170 - acc: 0.7691 - val_loss: 0.9435 - val_acc: 0.8125\n",
      "\n",
      "Epoch 00044: val_acc improved from 0.79861 to 0.81250, saving model to weights.hdf5\n",
      "Epoch 45/50\n",
      "576/576 [==============================] - 0s 23us/step - loss: 0.9965 - acc: 0.7743 - val_loss: 0.9229 - val_acc: 0.8125\n",
      "\n",
      "Epoch 00045: val_acc did not improve from 0.81250\n",
      "Epoch 46/50\n",
      "576/576 [==============================] - 0s 24us/step - loss: 0.9765 - acc: 0.7830 - val_loss: 0.9026 - val_acc: 0.8125\n",
      "\n",
      "Epoch 00046: val_acc did not improve from 0.81250\n",
      "Epoch 47/50\n",
      "576/576 [==============================] - 0s 21us/step - loss: 0.9568 - acc: 0.7951 - val_loss: 0.8829 - val_acc: 0.8194\n",
      "\n",
      "Epoch 00047: val_acc improved from 0.81250 to 0.81944, saving model to weights.hdf5\n",
      "Epoch 48/50\n",
      "576/576 [==============================] - 0s 23us/step - loss: 0.9374 - acc: 0.8021 - val_loss: 0.8639 - val_acc: 0.8194\n",
      "\n",
      "Epoch 00048: val_acc did not improve from 0.81944\n",
      "Epoch 49/50\n",
      "576/576 [==============================] - 0s 23us/step - loss: 0.9186 - acc: 0.8073 - val_loss: 0.8452 - val_acc: 0.8194\n",
      "\n",
      "Epoch 00049: val_acc did not improve from 0.81944\n",
      "Epoch 50/50\n",
      "576/576 [==============================] - 0s 21us/step - loss: 0.9004 - acc: 0.8160 - val_loss: 0.8271 - val_acc: 0.8194\n",
      "\n",
      "Epoch 00050: val_acc did not improve from 0.81944\n"
     ]
    }
   ],
   "source": [
    "H = model.fit(np.array(X_train),train_labels,\n",
    "             batch_size=batch_size,epochs = epoch,verbose=1,\n",
    "             callbacks=callback_list,validation_split=0.20)"
   ]
  },
  {
   "cell_type": "code",
   "execution_count": 137,
   "metadata": {},
   "outputs": [
    {
     "name": "stdout",
     "output_type": "stream",
     "text": [
      "NN Train Accuracy ::  0.8208333333333333\n",
      "NN Val Accuracy ::  0.7777777777777778\n"
     ]
    }
   ],
   "source": [
    "NNTrainPred = model.predict_classes(X_train) + 1\n",
    "NNValPred = model.predict_classes(X_val) + 1\n",
    "\n",
    "print (\"NN Train Accuracy :: \", metrics.accuracy_score(y_train, NNTrainPred))\n",
    "print (\"NN Val Accuracy :: \", metrics.accuracy_score(y_val, NNValPred))"
   ]
  },
  {
   "cell_type": "markdown",
   "metadata": {},
   "source": [
    "## Results"
   ]
  },
  {
   "cell_type": "code",
   "execution_count": 139,
   "metadata": {},
   "outputs": [
    {
     "name": "stdout",
     "output_type": "stream",
     "text": [
      "Confusion matrix, without normalization\n",
      "[[21  5  2  0  9  2  2]\n",
      " [ 9  6  2  0  3  0  3]\n",
      " [ 1  1 52  1  4  2  0]\n",
      " [ 1  0  5  4  2  1  2]\n",
      " [ 6  0  5  0 26  1  5]\n",
      " [ 2  3  6  0  4  3  2]\n",
      " [ 9  1  3  0  8  1  1]]\n",
      "Normalized confusion matrix\n",
      "[[0.51 0.12 0.05 0.   0.22 0.05 0.05]\n",
      " [0.39 0.26 0.09 0.   0.13 0.   0.13]\n",
      " [0.02 0.02 0.85 0.02 0.07 0.03 0.  ]\n",
      " [0.07 0.   0.33 0.27 0.13 0.07 0.13]\n",
      " [0.14 0.   0.12 0.   0.6  0.02 0.12]\n",
      " [0.1  0.15 0.3  0.   0.2  0.15 0.1 ]\n",
      " [0.39 0.04 0.13 0.   0.35 0.04 0.04]]\n"
     ]
    },
    {
     "data": {
      "image/png": "[encoded data removed]",
      "text/plain": [
       "<matplotlib.figure.Figure at 0x91b1614a20>"
      ]
     },
     "metadata": {},
     "output_type": "display_data"
    },
    {
     "data": {
      "image/png": "[encoded data removed]",
      "text/plain": [
       "<matplotlib.figure.Figure at 0x91b3b0eda0>"
      ]
     },
     "metadata": {},
     "output_type": "display_data"
    }
   ],
   "source": [
    "y_pred = clf.predict(AllTest)\n",
    "\n",
    "def plot_confusion_matrix(cm, classes,\n",
    "                          normalize=False,\n",
    "                          title='Confusion matrix',\n",
    "                          cmap=plt.cm.Blues):\n",
    "    \"\"\"\n",
    "    This function prints and plots the confusion matrix.\n",
    "    Normalization can be applied by setting `normalize=True`.\n",
    "    \"\"\"\n",
    "    if normalize:\n",
    "        cm = cm.astype('float') / cm.sum(axis=1)[:, np.newaxis]\n",
    "        print(\"Normalized confusion matrix\")\n",
    "    else:\n",
    "        print('Confusion matrix, without normalization')\n",
    "\n",
    "    print(cm)\n",
    "\n",
    "    plt.imshow(cm, interpolation='nearest', cmap=cmap)\n",
    "    plt.title(title)\n",
    "    plt.colorbar()\n",
    "    tick_marks = np.arange(len(classes))\n",
    "    plt.xticks(tick_marks, classes, rotation=45)\n",
    "    plt.yticks(tick_marks, classes)\n",
    "\n",
    "    fmt = '.2f' if normalize else 'd'\n",
    "    thresh = cm.max() / 2.\n",
    "    for i, j in itertools.product(range(cm.shape[0]), range(cm.shape[1])):\n",
    "        plt.text(j, i, format(cm[i, j], fmt),\n",
    "                 horizontalalignment=\"center\",\n",
    "                 color=\"white\" if cm[i, j] > thresh else \"black\")\n",
    "\n",
    "    plt.tight_layout()\n",
    "    plt.ylabel('True label')\n",
    "    plt.xlabel('Predicted label')\n",
    "\n",
    "# y_pred = model2.predict_classes(np.array(Xtrain_feat))\n",
    "class_names = np.array(['1','2','3','4','5','6','7'])\n",
    "    \n",
    "# Compute confusion matrix\n",
    "cnf_matrix = confusion_matrix(ytest, y_pred)\n",
    "np.set_printoptions(precision=2)\n",
    "\n",
    "# Plot non-normalized confusion matrix\n",
    "plt.figure()\n",
    "plot_confusion_matrix(cnf_matrix, classes=class_names,\n",
    "                      title='Confusion matrix, without normalization')\n",
    "\n",
    "# Plot normalized confusion matrix\n",
    "plt.figure()\n",
    "plot_confusion_matrix(cnf_matrix, classes=class_names, normalize=True,\n",
    "                      title='Normalized confusion matrix')\n",
    "\n",
    "plt.show()"
   ]
  },
  {
   "cell_type": "markdown",
   "metadata": {},
   "source": [
    "## ROC curve"
   ]
  },
  {
   "cell_type": "code",
   "execution_count": 140,
   "metadata": {
    "scrolled": false
   },
   "outputs": [
    {
     "name": "stdout",
     "output_type": "stream",
     "text": [
      "Area under the curve for class 1 : 0.7613711272247857\n"
     ]
    },
    {
     "data": {
      "image/png": "[encoded data removed]",
      "text/plain": [
       "<matplotlib.figure.Figure at 0x91b3b0e588>"
      ]
     },
     "metadata": {},
     "output_type": "display_data"
    },
    {
     "name": "stdout",
     "output_type": "stream",
     "text": [
      "Area under the curve for class 2 : 0.7260655386592418\n"
     ]
    },
    {
     "data": {
      "image/png": "[encoded data removed]",
      "text/plain": [
       "<matplotlib.figure.Figure at 0x91b3b11978>"
      ]
     },
     "metadata": {},
     "output_type": "display_data"
    },
    {
     "name": "stdout",
     "output_type": "stream",
     "text": [
      "Area under the curve for class 3 : 0.9052160953800298\n"
     ]
    },
    {
     "data": {
      "image/png": "[encoded data removed]",
      "text/plain": [
       "<matplotlib.figure.Figure at 0x91b3d11518>"
      ]
     },
     "metadata": {},
     "output_type": "display_data"
    },
    {
     "name": "stdout",
     "output_type": "stream",
     "text": [
      "Area under the curve for class 4 : 0.7232227488151659\n"
     ]
    },
    {
     "data": {
      "image/png": "[encoded data removed]",
      "text/plain": [
       "<matplotlib.figure.Figure at 0x91b3b3cbe0>"
      ]
     },
     "metadata": {},
     "output_type": "display_data"
    },
    {
     "name": "stdout",
     "output_type": "stream",
     "text": [
      "Area under the curve for class 5 : 0.8031516075740246\n"
     ]
    },
    {
     "data": {
      "image/png": "[encoded data removed]",
      "text/plain": [
       "<matplotlib.figure.Figure at 0x91b2867470>"
      ]
     },
     "metadata": {},
     "output_type": "display_data"
    },
    {
     "name": "stdout",
     "output_type": "stream",
     "text": [
      "Area under the curve for class 6 : 0.6339805825242719\n"
     ]
    },
    {
     "data": {
      "image/png": "[encoded data removed]",
      "text/plain": [
       "<matplotlib.figure.Figure at 0x91b38ab908>"
      ]
     },
     "metadata": {},
     "output_type": "display_data"
    },
    {
     "name": "stdout",
     "output_type": "stream",
     "text": [
      "Area under the curve for class 7 : 0.6650246305418719\n"
     ]
    },
    {
     "data": {
      "image/png": "[encoded data removed]",
      "text/plain": [
       "<matplotlib.figure.Figure at 0x91b3c75ef0>"
      ]
     },
     "metadata": {},
     "output_type": "display_data"
    }
   ],
   "source": [
    "y_pred_sco = clf.predict_proba(AllTest)\n",
    "plt.figure()\n",
    "\n",
    "AUCs = []\n",
    "\n",
    "for i in range(1,8):\n",
    "    \n",
    "    y_temp = (ytest == i).astype(int)\n",
    "    sco_temp = np.array([y_pred_sco[:,i-1] , 1-y_pred_sco[:,i-1]]).T\n",
    "    fpr, tpr, thres = roc_curve(y_temp, sco_temp[:,0])\n",
    "    \n",
    "    print('Area under the curve for class',i,':',auc(fpr, tpr))\n",
    "    \n",
    "    AUCs.append(auc(fpr, tpr))\n",
    "    \n",
    "    plt.plot(fpr, tpr, color='darkorange',lw=2)\n",
    "    plt.xlim([0.0, 1.0])\n",
    "    plt.ylim([0.0, 1.05])\n",
    "    plt.xlabel('False Positive Rate')\n",
    "    plt.ylabel('True Positive Rate')\n",
    "    plt.title('ROC curve')\n",
    "    plt.show()"
   ]
  },
  {
   "cell_type": "code",
   "execution_count": 141,
   "metadata": {},
   "outputs": [
    {
     "name": "stdout",
     "output_type": "stream",
     "text": [
      "Final result. Average AUCs for test data:  0.7454331901027702\n"
     ]
    }
   ],
   "source": [
    "print('Final result. Average AUCs for test data: ', np.mean(AUCs))"
   ]
  },
  {
   "cell_type": "code",
   "execution_count": 19,
   "metadata": {},
   "outputs": [],
   "source": [
    "import pickle\n",
    "\n",
    "SVMmodel = 'EnsembleSVM.pkl'\n",
    "SVM = open(SVMmodel,'wb')\n",
    "pickle.dump(clf,SVM)\n",
    "\n",
    "SVM.close()"
   ]
  }
 ],
 "metadata": {
  "kernelspec": {
   "display_name": "Python 3",
   "language": "python",
   "name": "python3"
  },
  "language_info": {
   "codemirror_mode": {
    "name": "ipython",
    "version": 3
   },
   "file_extension": ".py",
   "mimetype": "text/x-python",
   "name": "python",
   "nbconvert_exporter": "python",
   "pygments_lexer": "ipython3",
   "version": "3.6.4"
  }
 },
 "nbformat": 4,
 "nbformat_minor": 2
}
