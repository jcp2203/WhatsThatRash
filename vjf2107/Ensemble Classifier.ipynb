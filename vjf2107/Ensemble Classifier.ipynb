{
 "cells": [
  {
   "cell_type": "markdown",
   "metadata": {},
   "source": [
    "# Ensemble Clasifier"
   ]
  },
  {
   "cell_type": "code",
   "execution_count": 92,
   "metadata": {},
   "outputs": [],
   "source": [
    "import numpy as np\n",
    "import pandas as pd\n",
    "\n",
    "from sklearn import linear_model\n",
    "from sklearn import metrics\n",
    "from sklearn.metrics import confusion_matrix\n",
    "from sklearn.metrics import roc_curve, roc_auc_score, auc\n",
    "from sklearn.preprocessing import LabelEncoder\n",
    "from sklearn import svm\n",
    "from sklearn.preprocessing import LabelEncoder\n",
    "from keras.models import Sequential\n",
    "from keras.layers import Dense,Conv2D,Dropout\n",
    "from keras.layers import MaxPooling2D,Flatten\n",
    "from keras.callbacks import ModelCheckpoint,TensorBoard\n",
    "\n",
    "\n",
    "from keras.optimizers import SGD\n",
    "from keras.optimizers import Adam\n",
    "\n",
    "from keras.utils import np_utils\n",
    "\n",
    "import itertools\n",
    "import os\n",
    "import matplotlib.pyplot as plt\n"
   ]
  },
  {
   "cell_type": "code",
   "execution_count": 4,
   "metadata": {},
   "outputs": [
    {
     "data": {
      "text/plain": [
       "'C:\\\\Users\\\\Valentin\\\\Documents\\\\Columbia University\\\\Courses\\\\Data Science for Industry\\\\Final project'"
      ]
     },
     "execution_count": 4,
     "metadata": {},
     "output_type": "execute_result"
    }
   ],
   "source": [
    "os.getcwd()"
   ]
  },
  {
   "cell_type": "markdown",
   "metadata": {},
   "source": [
    "## Import data"
   ]
  },
  {
   "cell_type": "code",
   "execution_count": 50,
   "metadata": {},
   "outputs": [],
   "source": [
    "ytrain = pd.read_csv('C:\\\\Users\\\\Valentin\\\\Documents\\\\Columbia University\\\\Courses\\\\Data Science for Industry\\\\Final project\\\\Color quant\\\\ytrain.csv')\n",
    "ytest = pd.read_csv('C:\\\\Users\\\\Valentin\\\\Documents\\\\Columbia University\\\\Courses\\\\Data Science for Industry\\\\Final project\\\\Color quant\\\\ytest.csv')\n",
    "\n",
    "# CNN\n",
    "CNNtrain = np.load('C:\\\\Users\\\\Valentin\\\\Documents\\\\Columbia University\\\\Courses\\\\Data Science for Industry\\\\Final project\\\\Final results\\\\CNNTrainScores.npy')\n",
    "CNNtest = np.load('C:\\\\Users\\\\Valentin\\\\Documents\\\\Columbia University\\\\Courses\\\\Data Science for Industry\\\\Final project\\\\Final results\\\\CNNTestScores.npy')\n",
    "\n",
    "# Random Forest\n",
    "RFtrain = np.load('C:\\\\Users\\\\Valentin\\\\Documents\\\\Columbia University\\\\Courses\\\\Data Science for Industry\\\\Final project\\\\Final results\\\\RandomForestScores.npy')\n",
    "RFtest = np.load('C:\\\\Users\\\\Valentin\\\\Documents\\\\Columbia University\\\\Courses\\\\Data Science for Industry\\\\Final project\\\\Final results\\\\RandomForestTestScores.npy')\n",
    "\n",
    "AllTrain = np.concatenate((CNNtrain[0:900] , RFtrain),axis=1)\n",
    "ytrain = np.array(ytrain)[:,1].astype(int)\n",
    "\n",
    "AllTest = np.concatenate((CNNtest , RFtest),axis=1)\n",
    "ytest = np.array(ytest)[:,1].astype(int)"
   ]
  },
  {
   "cell_type": "code",
   "execution_count": 62,
   "metadata": {
    "scrolled": true
   },
   "outputs": [
    {
     "data": {
      "text/plain": [
       "array([5, 1, 5, 3, 3, 3, 1, 2, 1, 3, 3, 5, 1, 3, 1, 3, 1, 1, 1, 3, 3, 5,\n",
       "       3, 3, 3, 3, 3, 6, 7, 3, 5, 5, 3, 3, 5, 1, 3, 1, 5, 2, 2, 1, 3, 6,\n",
       "       5, 2, 5, 1, 1, 3, 7, 3, 5, 5, 3, 3, 3, 3, 5, 3, 1, 5, 5, 1, 5, 5,\n",
       "       5, 4, 2, 3, 3, 5, 3, 7, 5, 4, 5, 3, 7, 5, 2, 2, 7, 7, 2, 5, 5, 3,\n",
       "       1, 5, 3, 5, 3, 6, 6, 7, 6, 6, 3, 5, 5, 5, 2, 3, 3, 1, 5, 3, 5, 3,\n",
       "       7, 6, 3, 1, 2, 2, 3, 3, 1, 3, 3, 3, 2, 6, 5, 3, 3, 3, 6, 3, 5, 3,\n",
       "       5, 5, 3, 5, 5, 2, 3, 7, 5, 1, 1, 5, 3, 5, 3, 5, 1, 1, 5, 3, 3, 1,\n",
       "       5, 1, 1, 3, 1, 3, 3, 3, 7, 5, 3, 3, 3, 1, 5, 5, 1, 7, 7, 3, 7, 2,\n",
       "       5, 1, 3, 5, 1, 5, 1, 3, 1, 1, 3, 3, 1, 3, 3, 5, 5, 1, 1, 2, 3, 1,\n",
       "       5, 3, 1, 1, 1, 7, 1, 1, 3, 4, 3, 3, 7, 1, 1, 1, 7, 3, 5, 3, 6, 3,\n",
       "       1, 2, 3, 5, 1, 3])"
      ]
     },
     "execution_count": 62,
     "metadata": {},
     "output_type": "execute_result"
    }
   ],
   "source": [
    "mul_lr.predict(AllTest)"
   ]
  },
  {
   "cell_type": "code",
   "execution_count": 59,
   "metadata": {},
   "outputs": [
    {
     "name": "stdout",
     "output_type": "stream",
     "text": [
      "Multinomial Logistic regression Train Accuracy ::  0.9966666666666667\n",
      "Multinomial Logistic regression Test Accuracy ::  0.4778761061946903\n"
     ]
    }
   ],
   "source": [
    "# Train multinomial logistic regression model\n",
    "mul_lr = linear_model.LogisticRegression(multi_class='multinomial', solver='newton-cg')\n",
    "mul_lr.fit(AllTrain, ytrain)\n",
    "    \n",
    "print (\"Multinomial Logistic regression Train Accuracy :: \", metrics.accuracy_score(ytrain, mul_lr.predict(AllTrain)))\n",
    "print (\"Multinomial Logistic regression Test Accuracy :: \", metrics.accuracy_score(ytest, mul_lr.predict(AllTest)))"
   ]
  },
  {
   "cell_type": "code",
   "execution_count": 90,
   "metadata": {
    "scrolled": true
   },
   "outputs": [
    {
     "data": {
      "text/plain": [
       "SVC(C=1.0, cache_size=200, class_weight=None, coef0=0.0,\n",
       "  decision_function_shape='ovr', degree=3, gamma='auto', kernel='rbf',\n",
       "  max_iter=-1, probability=False, random_state=None, shrinking=True,\n",
       "  tol=0.001, verbose=False)"
      ]
     },
     "execution_count": 90,
     "metadata": {},
     "output_type": "execute_result"
    }
   ],
   "source": [
    "clf = svm.SVC()\n",
    "clf.fit(AllTrain, ytrain)  "
   ]
  },
  {
   "cell_type": "code",
   "execution_count": 91,
   "metadata": {},
   "outputs": [
    {
     "name": "stdout",
     "output_type": "stream",
     "text": [
      "SVM Train Accuracy ::  0.9966666666666667\n",
      "SVM Test Accuracy ::  0.5\n"
     ]
    }
   ],
   "source": [
    "print (\"SVM Train Accuracy :: \", metrics.accuracy_score(ytrain, clf.predict(AllTrain)))\n",
    "print (\"SVM Test Accuracy :: \", metrics.accuracy_score(ytest, clf.predict_(AllTest)))\n"
   ]
  },
  {
   "cell_type": "code",
   "execution_count": 118,
   "metadata": {},
   "outputs": [],
   "source": [
    "import pickle\n",
    "\n",
    "SVMmodel = 'EnsembleSVM.pkl'\n",
    "SVM = open(SVMmodel,'wb')\n",
    "pickle.dump(clf,SVM)\n",
    "\n",
    "SVM.close()"
   ]
  },
  {
   "cell_type": "code",
   "execution_count": 115,
   "metadata": {},
   "outputs": [
    {
     "name": "stdout",
     "output_type": "stream",
     "text": [
      "_________________________________________________________________\n",
      "Layer (type)                 Output Shape              Param #   \n",
      "=================================================================\n",
      "dense_13 (Dense)             (None, 10)                150       \n",
      "_________________________________________________________________\n",
      "dense_14 (Dense)             (None, 7)                 77        \n",
      "=================================================================\n",
      "Total params: 227\n",
      "Trainable params: 227\n",
      "Non-trainable params: 0\n",
      "_________________________________________________________________\n",
      "None\n"
     ]
    }
   ],
   "source": [
    "#NN\n",
    "\n",
    "#Number of classes \n",
    "n = 7\n",
    "\n",
    "#One hot label encoder\n",
    "enc = LabelEncoder()\n",
    "enc.fit(np.arange(1,n+1))\n",
    "enc.transform(np.arange(1,n+1))\n",
    "train_labels = enc.transform(ytrain)\n",
    "train_labels = np_utils.to_categorical(train_labels)\n",
    "\n",
    "\n",
    "model = Sequential()\n",
    "\n",
    "model.add(Dense(10, activation='relu', input_dim=14))\n",
    "model.add(Dense(7, activation='softmax'))\n",
    "\n",
    "model.compile(loss='categorical_crossentropy',\n",
    "              optimizer=Adam(lr=1e-3),\n",
    "              metrics=['accuracy'])\n",
    "\n",
    "batch_size = 132\n",
    "epoch = 50\n",
    "\n",
    "filepath = \"weights.hdf5\"\n",
    "checkpoint = ModelCheckpoint(filepath,monitor='val_acc',mode='max',\n",
    "                            save_best_only=True,verbose=1)\n",
    "\n",
    "callback_list = [checkpoint]\n",
    "\n",
    "print(model.summary())"
   ]
  },
  {
   "cell_type": "code",
   "execution_count": 116,
   "metadata": {},
   "outputs": [
    {
     "name": "stdout",
     "output_type": "stream",
     "text": [
      "Train on 720 samples, validate on 180 samples\n",
      "Epoch 1/50\n",
      "720/720 [==============================] - 0s 320us/step - loss: 1.9144 - acc: 0.2042 - val_loss: 1.8967 - val_acc: 0.2500\n",
      "\n",
      "Epoch 00001: val_acc improved from -inf to 0.25000, saving model to weights.hdf5\n",
      "Epoch 2/50\n",
      "720/720 [==============================] - 0s 37us/step - loss: 1.8912 - acc: 0.2153 - val_loss: 1.8747 - val_acc: 0.2556\n",
      "\n",
      "Epoch 00002: val_acc improved from 0.25000 to 0.25556, saving model to weights.hdf5\n",
      "Epoch 3/50\n",
      "720/720 [==============================] - 0s 19us/step - loss: 1.8682 - acc: 0.2181 - val_loss: 1.8534 - val_acc: 0.2556\n",
      "\n",
      "Epoch 00003: val_acc did not improve from 0.25556\n",
      "Epoch 4/50\n",
      "720/720 [==============================] - 0s 21us/step - loss: 1.8457 - acc: 0.2236 - val_loss: 1.8325 - val_acc: 0.2556\n",
      "\n",
      "Epoch 00004: val_acc did not improve from 0.25556\n",
      "Epoch 5/50\n",
      "720/720 [==============================] - 0s 22us/step - loss: 1.8240 - acc: 0.2361 - val_loss: 1.8122 - val_acc: 0.2667\n",
      "\n",
      "Epoch 00005: val_acc improved from 0.25556 to 0.26667, saving model to weights.hdf5\n",
      "Epoch 6/50\n",
      "720/720 [==============================] - 0s 17us/step - loss: 1.8027 - acc: 0.2486 - val_loss: 1.7921 - val_acc: 0.2722\n",
      "\n",
      "Epoch 00006: val_acc improved from 0.26667 to 0.27222, saving model to weights.hdf5\n",
      "Epoch 7/50\n",
      "720/720 [==============================] - 0s 22us/step - loss: 1.7819 - acc: 0.2708 - val_loss: 1.7724 - val_acc: 0.3000\n",
      "\n",
      "Epoch 00007: val_acc improved from 0.27222 to 0.30000, saving model to weights.hdf5\n",
      "Epoch 8/50\n",
      "720/720 [==============================] - 0s 19us/step - loss: 1.7611 - acc: 0.3014 - val_loss: 1.7529 - val_acc: 0.3389\n",
      "\n",
      "Epoch 00008: val_acc improved from 0.30000 to 0.33889, saving model to weights.hdf5\n",
      "Epoch 9/50\n",
      "720/720 [==============================] - 0s 21us/step - loss: 1.7406 - acc: 0.3556 - val_loss: 1.7336 - val_acc: 0.3500\n",
      "\n",
      "Epoch 00009: val_acc improved from 0.33889 to 0.35000, saving model to weights.hdf5\n",
      "Epoch 10/50\n",
      "720/720 [==============================] - 0s 18us/step - loss: 1.7201 - acc: 0.3889 - val_loss: 1.7144 - val_acc: 0.3778\n",
      "\n",
      "Epoch 00010: val_acc improved from 0.35000 to 0.37778, saving model to weights.hdf5\n",
      "Epoch 11/50\n",
      "720/720 [==============================] - 0s 19us/step - loss: 1.6995 - acc: 0.4056 - val_loss: 1.6948 - val_acc: 0.4000\n",
      "\n",
      "Epoch 00011: val_acc improved from 0.37778 to 0.40000, saving model to weights.hdf5\n",
      "Epoch 12/50\n",
      "720/720 [==============================] - 0s 21us/step - loss: 1.6788 - acc: 0.4208 - val_loss: 1.6750 - val_acc: 0.4222\n",
      "\n",
      "Epoch 00012: val_acc improved from 0.40000 to 0.42222, saving model to weights.hdf5\n",
      "Epoch 13/50\n",
      "720/720 [==============================] - 0s 21us/step - loss: 1.6578 - acc: 0.4375 - val_loss: 1.6552 - val_acc: 0.4278\n",
      "\n",
      "Epoch 00013: val_acc improved from 0.42222 to 0.42778, saving model to weights.hdf5\n",
      "Epoch 14/50\n",
      "720/720 [==============================] - 0s 21us/step - loss: 1.6365 - acc: 0.4556 - val_loss: 1.6352 - val_acc: 0.4389\n",
      "\n",
      "Epoch 00014: val_acc improved from 0.42778 to 0.43889, saving model to weights.hdf5\n",
      "Epoch 15/50\n",
      "720/720 [==============================] - 0s 21us/step - loss: 1.6144 - acc: 0.4694 - val_loss: 1.6148 - val_acc: 0.4389\n",
      "\n",
      "Epoch 00015: val_acc did not improve from 0.43889\n",
      "Epoch 16/50\n",
      "720/720 [==============================] - 0s 21us/step - loss: 1.5921 - acc: 0.4792 - val_loss: 1.5939 - val_acc: 0.4500\n",
      "\n",
      "Epoch 00016: val_acc improved from 0.43889 to 0.45000, saving model to weights.hdf5\n",
      "Epoch 17/50\n",
      "720/720 [==============================] - 0s 18us/step - loss: 1.5688 - acc: 0.4875 - val_loss: 1.5722 - val_acc: 0.4722\n",
      "\n",
      "Epoch 00017: val_acc improved from 0.45000 to 0.47222, saving model to weights.hdf5\n",
      "Epoch 18/50\n",
      "720/720 [==============================] - 0s 19us/step - loss: 1.5445 - acc: 0.5000 - val_loss: 1.5500 - val_acc: 0.4778\n",
      "\n",
      "Epoch 00018: val_acc improved from 0.47222 to 0.47778, saving model to weights.hdf5\n",
      "Epoch 19/50\n",
      "720/720 [==============================] - 0s 22us/step - loss: 1.5201 - acc: 0.5083 - val_loss: 1.5275 - val_acc: 0.5056\n",
      "\n",
      "Epoch 00019: val_acc improved from 0.47778 to 0.50556, saving model to weights.hdf5\n",
      "Epoch 20/50\n",
      "720/720 [==============================] - 0s 21us/step - loss: 1.4954 - acc: 0.5181 - val_loss: 1.5049 - val_acc: 0.5222\n",
      "\n",
      "Epoch 00020: val_acc improved from 0.50556 to 0.52222, saving model to weights.hdf5\n",
      "Epoch 21/50\n",
      "720/720 [==============================] - 0s 19us/step - loss: 1.4704 - acc: 0.5458 - val_loss: 1.4822 - val_acc: 0.5278\n",
      "\n",
      "Epoch 00021: val_acc improved from 0.52222 to 0.52778, saving model to weights.hdf5\n",
      "Epoch 22/50\n",
      "720/720 [==============================] - 0s 19us/step - loss: 1.4454 - acc: 0.5681 - val_loss: 1.4592 - val_acc: 0.5333\n",
      "\n",
      "Epoch 00022: val_acc improved from 0.52778 to 0.53333, saving model to weights.hdf5\n",
      "Epoch 23/50\n",
      "720/720 [==============================] - 0s 18us/step - loss: 1.4205 - acc: 0.5861 - val_loss: 1.4361 - val_acc: 0.5500\n",
      "\n",
      "Epoch 00023: val_acc improved from 0.53333 to 0.55000, saving model to weights.hdf5\n",
      "Epoch 24/50\n",
      "720/720 [==============================] - 0s 21us/step - loss: 1.3955 - acc: 0.6028 - val_loss: 1.4127 - val_acc: 0.5500\n",
      "\n",
      "Epoch 00024: val_acc did not improve from 0.55000\n",
      "Epoch 25/50\n",
      "720/720 [==============================] - 0s 21us/step - loss: 1.3704 - acc: 0.6167 - val_loss: 1.3893 - val_acc: 0.5722\n",
      "\n",
      "Epoch 00025: val_acc improved from 0.55000 to 0.57222, saving model to weights.hdf5\n",
      "Epoch 26/50\n",
      "720/720 [==============================] - 0s 19us/step - loss: 1.3453 - acc: 0.6292 - val_loss: 1.3659 - val_acc: 0.5833\n",
      "\n",
      "Epoch 00026: val_acc improved from 0.57222 to 0.58333, saving model to weights.hdf5\n",
      "Epoch 27/50\n",
      "720/720 [==============================] - 0s 21us/step - loss: 1.3203 - acc: 0.6472 - val_loss: 1.3422 - val_acc: 0.6056\n",
      "\n",
      "Epoch 00027: val_acc improved from 0.58333 to 0.60556, saving model to weights.hdf5\n",
      "Epoch 28/50\n",
      "720/720 [==============================] - 0s 18us/step - loss: 1.2950 - acc: 0.6639 - val_loss: 1.3184 - val_acc: 0.6167\n",
      "\n",
      "Epoch 00028: val_acc improved from 0.60556 to 0.61667, saving model to weights.hdf5\n",
      "Epoch 29/50\n",
      "720/720 [==============================] - 0s 21us/step - loss: 1.2698 - acc: 0.6819 - val_loss: 1.2943 - val_acc: 0.6556\n",
      "\n",
      "Epoch 00029: val_acc improved from 0.61667 to 0.65556, saving model to weights.hdf5\n",
      "Epoch 30/50\n",
      "720/720 [==============================] - 0s 19us/step - loss: 1.2445 - acc: 0.7222 - val_loss: 1.2701 - val_acc: 0.6944\n",
      "\n",
      "Epoch 00030: val_acc improved from 0.65556 to 0.69444, saving model to weights.hdf5\n",
      "Epoch 31/50\n",
      "720/720 [==============================] - 0s 24us/step - loss: 1.2190 - acc: 0.7639 - val_loss: 1.2456 - val_acc: 0.7111\n",
      "\n",
      "Epoch 00031: val_acc improved from 0.69444 to 0.71111, saving model to weights.hdf5\n",
      "Epoch 32/50\n",
      "720/720 [==============================] - 0s 22us/step - loss: 1.1936 - acc: 0.7903 - val_loss: 1.2209 - val_acc: 0.7444\n",
      "\n",
      "Epoch 00032: val_acc improved from 0.71111 to 0.74444, saving model to weights.hdf5\n",
      "Epoch 33/50\n",
      "720/720 [==============================] - 0s 21us/step - loss: 1.1680 - acc: 0.8236 - val_loss: 1.1960 - val_acc: 0.7944\n",
      "\n",
      "Epoch 00033: val_acc improved from 0.74444 to 0.79444, saving model to weights.hdf5\n",
      "Epoch 34/50\n",
      "720/720 [==============================] - 0s 22us/step - loss: 1.1423 - acc: 0.8458 - val_loss: 1.1711 - val_acc: 0.8111\n",
      "\n",
      "Epoch 00034: val_acc improved from 0.79444 to 0.81111, saving model to weights.hdf5\n",
      "Epoch 35/50\n",
      "720/720 [==============================] - 0s 21us/step - loss: 1.1165 - acc: 0.8597 - val_loss: 1.1460 - val_acc: 0.8222\n",
      "\n",
      "Epoch 00035: val_acc improved from 0.81111 to 0.82222, saving model to weights.hdf5\n",
      "Epoch 36/50\n",
      "720/720 [==============================] - 0s 19us/step - loss: 1.0904 - acc: 0.8806 - val_loss: 1.1209 - val_acc: 0.8333\n",
      "\n",
      "Epoch 00036: val_acc improved from 0.82222 to 0.83333, saving model to weights.hdf5\n",
      "Epoch 37/50\n",
      "720/720 [==============================] - 0s 21us/step - loss: 1.0641 - acc: 0.8847 - val_loss: 1.0951 - val_acc: 0.8444\n",
      "\n",
      "Epoch 00037: val_acc improved from 0.83333 to 0.84444, saving model to weights.hdf5\n",
      "Epoch 38/50\n",
      "720/720 [==============================] - 0s 21us/step - loss: 1.0373 - acc: 0.8903 - val_loss: 1.0694 - val_acc: 0.8556\n",
      "\n",
      "Epoch 00038: val_acc improved from 0.84444 to 0.85556, saving model to weights.hdf5\n"
     ]
    },
    {
     "name": "stdout",
     "output_type": "stream",
     "text": [
      "Epoch 39/50\n",
      "720/720 [==============================] - 0s 19us/step - loss: 1.0105 - acc: 0.8944 - val_loss: 1.0436 - val_acc: 0.8556\n",
      "\n",
      "Epoch 00039: val_acc did not improve from 0.85556\n",
      "Epoch 40/50\n",
      "720/720 [==============================] - 0s 21us/step - loss: 0.9833 - acc: 0.8972 - val_loss: 1.0175 - val_acc: 0.8667\n",
      "\n",
      "Epoch 00040: val_acc improved from 0.85556 to 0.86667, saving model to weights.hdf5\n",
      "Epoch 41/50\n",
      "720/720 [==============================] - 0s 19us/step - loss: 0.9563 - acc: 0.8986 - val_loss: 0.9913 - val_acc: 0.8722\n",
      "\n",
      "Epoch 00041: val_acc improved from 0.86667 to 0.87222, saving model to weights.hdf5\n",
      "Epoch 42/50\n",
      "720/720 [==============================] - 0s 17us/step - loss: 0.9292 - acc: 0.9014 - val_loss: 0.9652 - val_acc: 0.8722\n",
      "\n",
      "Epoch 00042: val_acc did not improve from 0.87222\n",
      "Epoch 43/50\n",
      "720/720 [==============================] - 0s 17us/step - loss: 0.9028 - acc: 0.9083 - val_loss: 0.9390 - val_acc: 0.8778\n",
      "\n",
      "Epoch 00043: val_acc improved from 0.87222 to 0.87778, saving model to weights.hdf5\n",
      "Epoch 44/50\n",
      "720/720 [==============================] - 0s 19us/step - loss: 0.8765 - acc: 0.9125 - val_loss: 0.9136 - val_acc: 0.8778\n",
      "\n",
      "Epoch 00044: val_acc did not improve from 0.87778\n",
      "Epoch 45/50\n",
      "720/720 [==============================] - 0s 21us/step - loss: 0.8506 - acc: 0.9153 - val_loss: 0.8881 - val_acc: 0.8833\n",
      "\n",
      "Epoch 00045: val_acc improved from 0.87778 to 0.88333, saving model to weights.hdf5\n",
      "Epoch 46/50\n",
      "720/720 [==============================] - 0s 21us/step - loss: 0.8252 - acc: 0.9153 - val_loss: 0.8633 - val_acc: 0.8889\n",
      "\n",
      "Epoch 00046: val_acc improved from 0.88333 to 0.88889, saving model to weights.hdf5\n",
      "Epoch 47/50\n",
      "720/720 [==============================] - 0s 19us/step - loss: 0.8003 - acc: 0.9181 - val_loss: 0.8387 - val_acc: 0.8889\n",
      "\n",
      "Epoch 00047: val_acc did not improve from 0.88889\n",
      "Epoch 48/50\n",
      "720/720 [==============================] - 0s 19us/step - loss: 0.7759 - acc: 0.9181 - val_loss: 0.8144 - val_acc: 0.8944\n",
      "\n",
      "Epoch 00048: val_acc improved from 0.88889 to 0.89444, saving model to weights.hdf5\n",
      "Epoch 49/50\n",
      "720/720 [==============================] - 0s 17us/step - loss: 0.7522 - acc: 0.9194 - val_loss: 0.7905 - val_acc: 0.8944\n",
      "\n",
      "Epoch 00049: val_acc did not improve from 0.89444\n",
      "Epoch 50/50\n",
      "720/720 [==============================] - 0s 19us/step - loss: 0.7283 - acc: 0.9208 - val_loss: 0.7670 - val_acc: 0.8944\n",
      "\n",
      "Epoch 00050: val_acc did not improve from 0.89444\n"
     ]
    }
   ],
   "source": [
    "H = model.fit(np.array(AllTrain),train_labels,\n",
    "             batch_size=batch_size,epochs = epoch,verbose=1,\n",
    "             callbacks=callback_list,validation_split=0.20)"
   ]
  },
  {
   "cell_type": "code",
   "execution_count": 117,
   "metadata": {},
   "outputs": [
    {
     "name": "stdout",
     "output_type": "stream",
     "text": [
      "NN Train Accuracy ::  0.9155555555555556\n",
      "NN Test Accuracy ::  0.4646017699115044\n"
     ]
    }
   ],
   "source": [
    "NNTrainPred = model.predict_classes(AllTrain) + 1\n",
    "NNTestPred = model.predict_classes(AllTest) + 1\n",
    "\n",
    "print (\"NN Train Accuracy :: \", metrics.accuracy_score(ytrain, NNTrainPred))\n",
    "print (\"NN Test Accuracy :: \", metrics.accuracy_score(ytest, NNTestPred))"
   ]
  },
  {
   "cell_type": "markdown",
   "metadata": {},
   "source": [
    "## Results"
   ]
  },
  {
   "cell_type": "code",
   "execution_count": 67,
   "metadata": {},
   "outputs": [
    {
     "name": "stdout",
     "output_type": "stream",
     "text": [
      "Confusion matrix, without normalization\n",
      "[[19  4  3  0  9  3  3]\n",
      " [ 8  6  3  0  3  0  3]\n",
      " [ 1  2 52  0  4  2  0]\n",
      " [ 2  0  5  3  2  1  2]\n",
      " [ 7  1  5  0 25  1  4]\n",
      " [ 2  2  7  0  4  2  3]\n",
      " [ 9  1  4  0  7  1  1]]\n",
      "Normalized confusion matrix\n",
      "[[0.46 0.1  0.07 0.   0.22 0.07 0.07]\n",
      " [0.35 0.26 0.13 0.   0.13 0.   0.13]\n",
      " [0.02 0.03 0.85 0.   0.07 0.03 0.  ]\n",
      " [0.13 0.   0.33 0.2  0.13 0.07 0.13]\n",
      " [0.16 0.02 0.12 0.   0.58 0.02 0.09]\n",
      " [0.1  0.1  0.35 0.   0.2  0.1  0.15]\n",
      " [0.39 0.04 0.17 0.   0.3  0.04 0.04]]\n"
     ]
    },
    {
     "data": {
      "image/png": "[encoded data removed]",
      "text/plain": [
       "<matplotlib.figure.Figure at 0x8110b9afd0>"
      ]
     },
     "metadata": {},
     "output_type": "display_data"
    },
    {
     "data": {
      "image/png": "[encoded data removed]",
      "text/plain": [
       "<matplotlib.figure.Figure at 0x8110b9c6a0>"
      ]
     },
     "metadata": {},
     "output_type": "display_data"
    }
   ],
   "source": [
    "y_pred = mul_lr.predict(AllTest)\n",
    "\n",
    "def plot_confusion_matrix(cm, classes,\n",
    "                          normalize=False,\n",
    "                          title='Confusion matrix',\n",
    "                          cmap=plt.cm.Blues):\n",
    "    \"\"\"\n",
    "    This function prints and plots the confusion matrix.\n",
    "    Normalization can be applied by setting `normalize=True`.\n",
    "    \"\"\"\n",
    "    if normalize:\n",
    "        cm = cm.astype('float') / cm.sum(axis=1)[:, np.newaxis]\n",
    "        print(\"Normalized confusion matrix\")\n",
    "    else:\n",
    "        print('Confusion matrix, without normalization')\n",
    "\n",
    "    print(cm)\n",
    "\n",
    "    plt.imshow(cm, interpolation='nearest', cmap=cmap)\n",
    "    plt.title(title)\n",
    "    plt.colorbar()\n",
    "    tick_marks = np.arange(len(classes))\n",
    "    plt.xticks(tick_marks, classes, rotation=45)\n",
    "    plt.yticks(tick_marks, classes)\n",
    "\n",
    "    fmt = '.2f' if normalize else 'd'\n",
    "    thresh = cm.max() / 2.\n",
    "    for i, j in itertools.product(range(cm.shape[0]), range(cm.shape[1])):\n",
    "        plt.text(j, i, format(cm[i, j], fmt),\n",
    "                 horizontalalignment=\"center\",\n",
    "                 color=\"white\" if cm[i, j] > thresh else \"black\")\n",
    "\n",
    "    plt.tight_layout()\n",
    "    plt.ylabel('True label')\n",
    "    plt.xlabel('Predicted label')\n",
    "\n",
    "# y_pred = model2.predict_classes(np.array(Xtrain_feat))\n",
    "class_names = np.array(['1','2','3','4','5','6','7'])\n",
    "    \n",
    "# Compute confusion matrix\n",
    "cnf_matrix = confusion_matrix(ytest, y_pred)\n",
    "np.set_printoptions(precision=2)\n",
    "\n",
    "# Plot non-normalized confusion matrix\n",
    "plt.figure()\n",
    "plot_confusion_matrix(cnf_matrix, classes=class_names,\n",
    "                      title='Confusion matrix, without normalization')\n",
    "\n",
    "# Plot normalized confusion matrix\n",
    "plt.figure()\n",
    "plot_confusion_matrix(cnf_matrix, classes=class_names, normalize=True,\n",
    "                      title='Normalized confusion matrix')\n",
    "\n",
    "plt.show()"
   ]
  },
  {
   "cell_type": "markdown",
   "metadata": {},
   "source": [
    "## ROC curve"
   ]
  },
  {
   "cell_type": "code",
   "execution_count": 73,
   "metadata": {},
   "outputs": [],
   "source": [
    "y_pred_sco = mul_lr.predict_proba(AllTest)"
   ]
  },
  {
   "cell_type": "code",
   "execution_count": 77,
   "metadata": {},
   "outputs": [
    {
     "data": {
      "text/plain": [
       "array([[0.04, 0.08, 0.03, ..., 0.73, 0.07, 0.03],\n",
       "       [0.64, 0.08, 0.03, ..., 0.11, 0.07, 0.03],\n",
       "       [0.02, 0.07, 0.01, ..., 0.87, 0.01, 0.01],\n",
       "       ...,\n",
       "       [0.14, 0.11, 0.1 , ..., 0.33, 0.05, 0.2 ],\n",
       "       [0.55, 0.22, 0.03, ..., 0.08, 0.06, 0.03],\n",
       "       [0.  , 0.  , 0.98, ..., 0.  , 0.  , 0.  ]])"
      ]
     },
     "execution_count": 77,
     "metadata": {},
     "output_type": "execute_result"
    }
   ],
   "source": [
    "y_pred_sco"
   ]
  },
  {
   "cell_type": "code",
   "execution_count": 86,
   "metadata": {},
   "outputs": [
    {
     "data": {
      "text/plain": [
       "array([[0., 0., 0., ..., 0., 0., 1.],\n",
       "       [0., 0., 0., ..., 0., 0., 1.],\n",
       "       [0., 0., 0., ..., 1., 0., 0.],\n",
       "       ...,\n",
       "       [1., 0., 0., ..., 0., 0., 0.],\n",
       "       [0., 0., 0., ..., 0., 0., 1.],\n",
       "       [0., 0., 1., ..., 0., 0., 0.]], dtype=float32)"
      ]
     },
     "execution_count": 86,
     "metadata": {},
     "output_type": "execute_result"
    }
   ],
   "source": [
    "test_labels"
   ]
  },
  {
   "cell_type": "code",
   "execution_count": 87,
   "metadata": {},
   "outputs": [
    {
     "ename": "ValueError",
     "evalue": "multilabel-indicator format is not supported",
     "output_type": "error",
     "traceback": [
      "\u001b[1;31m---------------------------------------------------------------------------\u001b[0m",
      "\u001b[1;31mValueError\u001b[0m                                Traceback (most recent call last)",
      "\u001b[1;32m<ipython-input-87-9c75dee1ccd7>\u001b[0m in \u001b[0;36m<module>\u001b[1;34m()\u001b[0m\n\u001b[1;32m----> 1\u001b[1;33m \u001b[0mfpr\u001b[0m\u001b[1;33m,\u001b[0m \u001b[0mtpr\u001b[0m\u001b[1;33m,\u001b[0m \u001b[0mthres\u001b[0m \u001b[1;33m=\u001b[0m \u001b[0mroc_curve\u001b[0m\u001b[1;33m(\u001b[0m\u001b[0mtest_labels\u001b[0m\u001b[1;33m,\u001b[0m \u001b[0my_pred_sco\u001b[0m\u001b[1;33m)\u001b[0m\u001b[1;33m\u001b[0m\u001b[0m\n\u001b[0m\u001b[0;32m      2\u001b[0m \u001b[0mprint\u001b[0m\u001b[1;33m(\u001b[0m\u001b[1;34m'Area under the curve of the ROC:'\u001b[0m\u001b[1;33m,\u001b[0m\u001b[0mauc\u001b[0m\u001b[1;33m(\u001b[0m\u001b[0mfpr\u001b[0m\u001b[1;33m,\u001b[0m \u001b[0mtpr\u001b[0m\u001b[1;33m)\u001b[0m\u001b[1;33m)\u001b[0m\u001b[1;33m\u001b[0m\u001b[0m\n\u001b[0;32m      3\u001b[0m \u001b[1;33m\u001b[0m\u001b[0m\n\u001b[0;32m      4\u001b[0m \u001b[0mplt\u001b[0m\u001b[1;33m.\u001b[0m\u001b[0mfigure\u001b[0m\u001b[1;33m(\u001b[0m\u001b[1;33m)\u001b[0m\u001b[1;33m\u001b[0m\u001b[0m\n\u001b[0;32m      5\u001b[0m \u001b[0mplt\u001b[0m\u001b[1;33m.\u001b[0m\u001b[0mplot\u001b[0m\u001b[1;33m(\u001b[0m\u001b[0mfpr\u001b[0m\u001b[1;33m,\u001b[0m \u001b[0mtpr\u001b[0m\u001b[1;33m,\u001b[0m \u001b[0mcolor\u001b[0m\u001b[1;33m=\u001b[0m\u001b[1;34m'darkorange'\u001b[0m\u001b[1;33m,\u001b[0m\u001b[0mlw\u001b[0m\u001b[1;33m=\u001b[0m\u001b[1;36m2\u001b[0m\u001b[1;33m)\u001b[0m\u001b[1;33m\u001b[0m\u001b[0m\n",
      "\u001b[1;32m~\\Anaconda3\\lib\\site-packages\\sklearn\\metrics\\ranking.py\u001b[0m in \u001b[0;36mroc_curve\u001b[1;34m(y_true, y_score, pos_label, sample_weight, drop_intermediate)\u001b[0m\n\u001b[0;32m    532\u001b[0m     \"\"\"\n\u001b[0;32m    533\u001b[0m     fps, tps, thresholds = _binary_clf_curve(\n\u001b[1;32m--> 534\u001b[1;33m         y_true, y_score, pos_label=pos_label, sample_weight=sample_weight)\n\u001b[0m\u001b[0;32m    535\u001b[0m \u001b[1;33m\u001b[0m\u001b[0m\n\u001b[0;32m    536\u001b[0m     \u001b[1;31m# Attempt to drop thresholds corresponding to points in between and\u001b[0m\u001b[1;33m\u001b[0m\u001b[1;33m\u001b[0m\u001b[0m\n",
      "\u001b[1;32m~\\Anaconda3\\lib\\site-packages\\sklearn\\metrics\\ranking.py\u001b[0m in \u001b[0;36m_binary_clf_curve\u001b[1;34m(y_true, y_score, pos_label, sample_weight)\u001b[0m\n\u001b[0;32m    316\u001b[0m     if not (y_type == \"binary\" or\n\u001b[0;32m    317\u001b[0m             (y_type == \"multiclass\" and pos_label is not None)):\n\u001b[1;32m--> 318\u001b[1;33m         \u001b[1;32mraise\u001b[0m \u001b[0mValueError\u001b[0m\u001b[1;33m(\u001b[0m\u001b[1;34m\"{0} format is not supported\"\u001b[0m\u001b[1;33m.\u001b[0m\u001b[0mformat\u001b[0m\u001b[1;33m(\u001b[0m\u001b[0my_type\u001b[0m\u001b[1;33m)\u001b[0m\u001b[1;33m)\u001b[0m\u001b[1;33m\u001b[0m\u001b[0m\n\u001b[0m\u001b[0;32m    319\u001b[0m \u001b[1;33m\u001b[0m\u001b[0m\n\u001b[0;32m    320\u001b[0m     \u001b[0mcheck_consistent_length\u001b[0m\u001b[1;33m(\u001b[0m\u001b[0my_true\u001b[0m\u001b[1;33m,\u001b[0m \u001b[0my_score\u001b[0m\u001b[1;33m,\u001b[0m \u001b[0msample_weight\u001b[0m\u001b[1;33m)\u001b[0m\u001b[1;33m\u001b[0m\u001b[0m\n",
      "\u001b[1;31mValueError\u001b[0m: multilabel-indicator format is not supported"
     ]
    }
   ],
   "source": [
    "fpr, tpr, thres = roc_curve(test_labels, y_pred_sco)\n",
    "print('Area under the curve of the ROC:',auc(fpr, tpr))\n",
    "\n",
    "plt.figure()\n",
    "plt.plot([0, 1], [0, 1], color='navy', lw=2, linestyle='--')\n",
    "plt.xlim([0.0, 1.0])\n",
    "plt.ylim([0.0, 1.05])\n",
    "plt.xlabel('False Positive Rate')\n",
    "plt.ylabel('True Positive Rate')\n",
    "plt.title('ROC curve')\n",
    "plt.show()"
   ]
  },
  {
   "cell_type": "code",
   "execution_count": null,
   "metadata": {},
   "outputs": [],
   "source": []
  }
 ],
 "metadata": {
  "kernelspec": {
   "display_name": "Python 3",
   "language": "python",
   "name": "python3"
  },
  "language_info": {
   "codemirror_mode": {
    "name": "ipython",
    "version": 3
   },
   "file_extension": ".py",
   "mimetype": "text/x-python",
   "name": "python",
   "nbconvert_exporter": "python",
   "pygments_lexer": "ipython3",
   "version": "3.6.4"
  }
 },
 "nbformat": 4,
 "nbformat_minor": 2
}
